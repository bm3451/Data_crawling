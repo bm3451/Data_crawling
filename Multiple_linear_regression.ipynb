{
 "cells": [
  {
   "cell_type": "code",
   "execution_count": 4,
   "id": "2574ede2",
   "metadata": {},
   "outputs": [],
   "source": [
    "import pandas as pd"
   ]
  },
  {
   "cell_type": "code",
   "execution_count": 5,
   "id": "3eec3699",
   "metadata": {},
   "outputs": [
    {
     "data": {
      "text/html": [
       "<div>\n",
       "<style scoped>\n",
       "    .dataframe tbody tr th:only-of-type {\n",
       "        vertical-align: middle;\n",
       "    }\n",
       "\n",
       "    .dataframe tbody tr th {\n",
       "        vertical-align: top;\n",
       "    }\n",
       "\n",
       "    .dataframe thead th {\n",
       "        text-align: right;\n",
       "    }\n",
       "</style>\n",
       "<table border=\"1\" class=\"dataframe\">\n",
       "  <thead>\n",
       "    <tr style=\"text-align: right;\">\n",
       "      <th></th>\n",
       "      <th>만족도</th>\n",
       "      <th>공공시설</th>\n",
       "      <th>안전</th>\n",
       "      <th>문화</th>\n",
       "      <th>녹지</th>\n",
       "      <th>소음</th>\n",
       "      <th>교통</th>\n",
       "      <th>의료</th>\n",
       "    </tr>\n",
       "  </thead>\n",
       "  <tbody>\n",
       "    <tr>\n",
       "      <th>0</th>\n",
       "      <td>6.36</td>\n",
       "      <td>6.39</td>\n",
       "      <td>6.31</td>\n",
       "      <td>5.78</td>\n",
       "      <td>5.93</td>\n",
       "      <td>5.78</td>\n",
       "      <td>6.81</td>\n",
       "      <td>6.66</td>\n",
       "    </tr>\n",
       "    <tr>\n",
       "      <th>1</th>\n",
       "      <td>6.34</td>\n",
       "      <td>6.35</td>\n",
       "      <td>6.32</td>\n",
       "      <td>5.77</td>\n",
       "      <td>5.89</td>\n",
       "      <td>5.77</td>\n",
       "      <td>6.80</td>\n",
       "      <td>6.64</td>\n",
       "    </tr>\n",
       "    <tr>\n",
       "      <th>2</th>\n",
       "      <td>6.37</td>\n",
       "      <td>6.42</td>\n",
       "      <td>6.29</td>\n",
       "      <td>5.78</td>\n",
       "      <td>5.96</td>\n",
       "      <td>5.78</td>\n",
       "      <td>6.82</td>\n",
       "      <td>6.67</td>\n",
       "    </tr>\n",
       "    <tr>\n",
       "      <th>3</th>\n",
       "      <td>6.82</td>\n",
       "      <td>6.58</td>\n",
       "      <td>6.21</td>\n",
       "      <td>5.76</td>\n",
       "      <td>5.75</td>\n",
       "      <td>5.76</td>\n",
       "      <td>6.54</td>\n",
       "      <td>6.44</td>\n",
       "    </tr>\n",
       "    <tr>\n",
       "      <th>4</th>\n",
       "      <td>6.48</td>\n",
       "      <td>6.36</td>\n",
       "      <td>6.07</td>\n",
       "      <td>5.96</td>\n",
       "      <td>5.73</td>\n",
       "      <td>5.96</td>\n",
       "      <td>6.84</td>\n",
       "      <td>6.60</td>\n",
       "    </tr>\n",
       "  </tbody>\n",
       "</table>\n",
       "</div>"
      ],
      "text/plain": [
       "    만족도  공공시설    안전    문화    녹지    소음    교통    의료\n",
       "0  6.36  6.39  6.31  5.78  5.93  5.78  6.81  6.66\n",
       "1  6.34  6.35  6.32  5.77  5.89  5.77  6.80  6.64\n",
       "2  6.37  6.42  6.29  5.78  5.96  5.78  6.82  6.67\n",
       "3  6.82  6.58  6.21  5.76  5.75  5.76  6.54  6.44\n",
       "4  6.48  6.36  6.07  5.96  5.73  5.96  6.84  6.60"
      ]
     },
     "execution_count": 5,
     "metadata": {},
     "output_type": "execute_result"
    }
   ],
   "source": [
    "#파일 input\n",
    "df_sat=pd.read_csv('satisfaction.csv', encoding='cp949')#생활_만족도.csv\n",
    "df_ar=pd.read_csv('around_env.csv', encoding='cp949')#주변환경.csv\n",
    "df_cul=pd.read_csv('culture.csv', encoding='cp949')#문화환경.csv\n",
    "df_gr=pd.read_csv('green.csv', encoding='cp949')#녹지환경.csv\n",
    "df_no=pd.read_csv('noise.csv', encoding='cp949')#소음_진동.csv\n",
    "df_tr=pd.read_csv('transportation.csv', encoding='cp949')#교통수단.csv\n",
    "df_he=pd.read_csv('healthcare.csv', encoding='cp949')#의료.csv\n",
    "df_le=pd.read_csv('life_env.csv', encoding='cp949')#생활환경.csv\n",
    "\n",
    "#하나의 데이터 프레임으로 합침(df변수)\n",
    "df=pd.DataFrame(df_sat['10점 평균'])\n",
    "#df['suitable for exercise']=pd.Series(df_ar['exercise'], index=df.index)#체육시설\n",
    "df['공공시설']=pd.Series(df_ar['public'], index=df.index)#공공시설\n",
    "df['안전']=pd.Series(df_ar['safe'], index=df.index)  #안전\n",
    "df['문화']=pd.Series(df_cul['10점 평균'], index=df.index) #문화\n",
    "df['녹지']=pd.Series(df_gr['10점 평균'], index=df.index) #녹지\n",
    "df['소음']=pd.Series(df_cul['10점 평균'], index=df.index) #소음\n",
    "df['교통']=pd.Series(df_tr['종합'], index=df.index) #교통\n",
    "df['의료']=pd.Series(df_he['10점 평균'], index=df.index)#의료\n",
    "df=df.rename(columns={'10점 평균':'만족도'})\n",
    "df.head() #df확인 및 컬럼명 확인"
   ]
  },
  {
   "cell_type": "code",
   "execution_count": 6,
   "id": "09c904da",
   "metadata": {},
   "outputs": [
    {
     "data": {
      "text/html": [
       "<div>\n",
       "<style scoped>\n",
       "    .dataframe tbody tr th:only-of-type {\n",
       "        vertical-align: middle;\n",
       "    }\n",
       "\n",
       "    .dataframe tbody tr th {\n",
       "        vertical-align: top;\n",
       "    }\n",
       "\n",
       "    .dataframe thead th {\n",
       "        text-align: right;\n",
       "    }\n",
       "</style>\n",
       "<table border=\"1\" class=\"dataframe\">\n",
       "  <thead>\n",
       "    <tr style=\"text-align: right;\">\n",
       "      <th></th>\n",
       "      <th>만족도</th>\n",
       "    </tr>\n",
       "  </thead>\n",
       "  <tbody>\n",
       "    <tr>\n",
       "      <th>만족도</th>\n",
       "      <td>1.000000</td>\n",
       "    </tr>\n",
       "    <tr>\n",
       "      <th>문화</th>\n",
       "      <td>0.379736</td>\n",
       "    </tr>\n",
       "    <tr>\n",
       "      <th>소음</th>\n",
       "      <td>0.379736</td>\n",
       "    </tr>\n",
       "    <tr>\n",
       "      <th>녹지</th>\n",
       "      <td>0.258024</td>\n",
       "    </tr>\n",
       "    <tr>\n",
       "      <th>안전</th>\n",
       "      <td>0.233537</td>\n",
       "    </tr>\n",
       "  </tbody>\n",
       "</table>\n",
       "</div>"
      ],
      "text/plain": [
       "          만족도\n",
       "만족도  1.000000\n",
       "문화   0.379736\n",
       "소음   0.379736\n",
       "녹지   0.258024\n",
       "안전   0.233537"
      ]
     },
     "execution_count": 6,
     "metadata": {},
     "output_type": "execute_result"
    }
   ],
   "source": [
    "#선형회귀전 데이터와 삶의 만족도 상관관계 파악\n",
    "corr_matrix=df.corr()\n",
    "corr_matrix[\"만족도\"].sort_values(ascending=False)\n",
    "corr_df=pd.DataFrame(corr_matrix[\"만족도\"].sort_values(ascending=False))\n",
    "corr_df.head()"
   ]
  },
  {
   "cell_type": "code",
   "execution_count": 7,
   "id": "e29a1286",
   "metadata": {},
   "outputs": [
    {
     "data": {
      "image/png": "[encoded data removed]",
      "text/plain": [
       "<Figure size 864x576 with 1 Axes>"
      ]
     },
     "metadata": {
      "needs_background": "light"
     },
     "output_type": "display_data"
    }
   ],
   "source": [
    "#데이터와 만족도 상관관계 시각화\n",
    "import matplotlib.pyplot as plt\n",
    "import matplotlib\n",
    "import platform\n",
    "\n",
    "matplotlib.rcParams['axes.unicode_minus'] = False \n",
    "x = corr_df.index\n",
    "y = corr_df[\"만족도\"]\n",
    "plt.rcParams['font.family'] = 'NanumGothic'\n",
    "plt.figure(figsize=(12,8))\n",
    "\n",
    "plt.bar(x, y,color='green')\n",
    "plt.title(\"생활인프라가 삶의 만족도에 미치는 영향\")\n",
    "plt.xticks(rotation=45)\n",
    "plt.savefig('./Correlation.png')"
   ]
  },
  {
   "cell_type": "code",
   "execution_count": 8,
   "id": "377d764b",
   "metadata": {},
   "outputs": [
    {
     "data": {
      "image/png": "[encoded data removed]",
      "text/plain": [
       "<Figure size 432x288 with 1 Axes>"
      ]
     },
     "metadata": {
      "needs_background": "light"
     },
     "output_type": "display_data"
    }
   ],
   "source": [
    "#생활인프라별 삶의 만족도 분포도 \n",
    "plt.scatter(df[['문화']], df[['만족도']], alpha=0.4) \n",
    "a = plt\n",
    "plt.scatter(df[['소음']], df[['만족도']], alpha=0.4) \n",
    "b = plt\n",
    "plt.scatter(df[['녹지']], df[['만족도']], alpha=0.4) \n",
    "c = plt\n",
    "plt.scatter(df[['안전']], df[['만족도']], alpha=0.4)\n",
    "d = plt\n",
    "plt.scatter(df[['의료']], df[['만족도']], alpha=0.4)\n",
    "e = plt\n",
    "plt.scatter(df[['공공시설']], df[['만족도']], alpha=0.4)\n",
    "f = plt\n",
    "plt.scatter(df[['교통']], df[['만족도']], alpha=0.4)\n",
    "g = plt\n",
    "\n",
    "#plt.savefig('./Distribution_chart.png')"
   ]
  },
  {
   "cell_type": "code",
   "execution_count": 14,
   "id": "a9598f2b",
   "metadata": {},
   "outputs": [
    {
     "data": {
      "image/png": "[encoded data removed]",
      "text/plain": [
       "<Figure size 432x288 with 1 Axes>"
      ]
     },
     "metadata": {
      "needs_background": "light"
     },
     "output_type": "display_data"
    },
    {
     "data": {
      "image/png": "[encoded data removed]",
      "text/plain": [
       "<Figure size 432x288 with 1 Axes>"
      ]
     },
     "metadata": {
      "needs_background": "light"
     },
     "output_type": "display_data"
    }
   ],
   "source": [
    "from sklearn.model_selection import train_test_split\n",
    "# #train데이터 test데이터(샘플데이터) 나누기 \n",
    "x = df[['공공시설','안전','문화','녹지','소음','교통','의료']]\n",
    "y = df[['만족도']]\n",
    "# #x_train:학습데이터(독립변수) x_test:샘플데이터(독립변수) y_train:정답데이터(종속변수) y_test:샘플정답데이터(종속변수)\n",
    "x_train, x_test, y_train, y_test = train_test_split(x, y, train_size=0.8, test_size=0.2) #훈련용 데이터와 평가용 데이터 분할하기.\n",
    "#print(y_test)\n",
    "\n",
    "#다중선형회귀 학습\n",
    "from sklearn.linear_model import LinearRegression\n",
    "\n",
    "mlr = LinearRegression()#모델불러오기\n",
    "mlr.fit(x_train, y_train) #모델학습\n",
    "\n",
    "#다중선형회귀 학습모델로 학습 데이터 예측\n",
    "y_predict = mlr.predict(x_train)\n",
    "\n",
    "#학습 데이터 예측 시각화\n",
    "import matplotlib.pyplot as plt\n",
    "plt.scatter(y_train, y_predict, alpha=0.4, color='green',marker='h',s=100)\n",
    "plt.xlabel(\"Actual satisfaction\")\n",
    "plt.ylabel(\"Predicted satisfaction\")\n",
    "plt.title(\"MULTIPLE LINEAR REGRESSION(Learning)\")\n",
    "plt.savefig('./MULTIPLE_LINEAR_REGRESSION(Learning).png')\n",
    "plt.show()\n",
    "\n",
    "#다중선형회귀 학습모델로 샘플데이터 예측\n",
    "y_predict = mlr.predict(x_test)\n",
    "\n",
    "#샘플 데이터 예측 시각화\n",
    "import matplotlib.pyplot as plt\n",
    "plt.scatter(y_test, y_predict, alpha=0.4,color='red',marker='h',s=100)\n",
    "plt.xlabel(\"Actual satisfaction\")\n",
    "plt.ylabel(\"Predicted satisfaction\")\n",
    "plt.title(\"MULTIPLE LINEAR REGRESSION(Sample)\")\n",
    "plt.savefig('./MULTIPLE_LINEAR_REGRESSION(Sample).png')\n",
    "plt.show()"
   ]
  },
  {
   "cell_type": "code",
   "execution_count": 15,
   "id": "e24bc8d0",
   "metadata": {},
   "outputs": [
    {
     "name": "stdout",
     "output_type": "stream",
     "text": [
      "0.48548515342325393\n"
     ]
    }
   ],
   "source": [
    "#예측 결정계수:모델이 실제 현상을 잘 예측하는지 확인해보는 것. #(R^2)결정걔수(1에 가까울수록 예측 정확도가 높다)\n",
    "print(mlr.score(x_train, y_train))"
   ]
  },
  {
   "cell_type": "code",
   "execution_count": 16,
   "id": "8fe0c0e5",
   "metadata": {},
   "outputs": [
    {
     "name": "stdout",
     "output_type": "stream",
     "text": [
      "0.033293755494980995\n"
     ]
    }
   ],
   "source": [
    "#mse(mean squared error) : 평가지표\n",
    "import sklearn\n",
    "mse = sklearn.metrics.mean_squared_error(y_test, y_predict)\n",
    "print(mse)"
   ]
  },
  {
   "cell_type": "code",
   "execution_count": 17,
   "id": "05c09d3f",
   "metadata": {},
   "outputs": [
    {
     "data": {
      "text/plain": [
       "array([[ 0.04766122,  0.58349931,  0.19727616, -0.04152546,  0.19727616,\n",
       "        -0.58326413, -0.08353051]])"
      ]
     },
     "execution_count": 17,
     "metadata": {},
     "output_type": "execute_result"
    }
   ],
   "source": [
    "#회귀계수 확인\n",
    "mlr.coef_"
   ]
  },
  {
   "cell_type": "code",
   "execution_count": 18,
   "id": "c878ed73",
   "metadata": {},
   "outputs": [
    {
     "data": {
      "image/png": "[encoded data removed]",
      "text/plain": [
       "<Figure size 864x576 with 1 Axes>"
      ]
     },
     "metadata": {
      "needs_background": "light"
     },
     "output_type": "display_data"
    }
   ],
   "source": [
    "#회귀계수 시각화\n",
    "label=['문화','소음','녹지','안전','의료','공공시설','교통']\n",
    "#회귀계수 추출\n",
    "data=mlr.coef_\n",
    "data=list(data[0])\n",
    "\n",
    "plt.figure(figsize=(12,8))\n",
    "plt.bar(label, data,color='green')\n",
    "plt.title(\"회귀 계수\")\n",
    "plt.xticks(rotation=45)\n",
    "plt.savefig('./Regression_coefficient..png')"
   ]
  }
 ],
 "metadata": {
  "kernelspec": {
   "display_name": "Python 3 (ipykernel)",
   "language": "python",
   "name": "python3"
  },
  "language_info": {
   "codemirror_mode": {
    "name": "ipython",
    "version": 3
   },
   "file_extension": ".py",
   "mimetype": "text/x-python",
   "name": "python",
   "nbconvert_exporter": "python",
   "pygments_lexer": "ipython3",
   "version": "3.9.7"
  }
 },
 "nbformat": 4,
 "nbformat_minor": 5
}
